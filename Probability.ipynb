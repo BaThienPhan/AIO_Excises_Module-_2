{
  "nbformat": 4,
  "nbformat_minor": 0,
  "metadata": {
    "colab": {
      "provenance": [],
      "mount_file_id": "1pd17rVyLPcPjj318yvy3U-IkBjiLxU1C",
      "authorship_tag": "ABX9TyN/wpHc0v/uTpbJLBo1tMU+",
      "include_colab_link": true
    },
    "kernelspec": {
      "name": "python3",
      "display_name": "Python 3"
    },
    "language_info": {
      "name": "python"
    }
  },
  "cells": [
    {
      "cell_type": "markdown",
      "metadata": {
        "id": "view-in-github",
        "colab_type": "text"
      },
      "source": [
        "<a href=\"https://colab.research.google.com/github/BaThienPhan/AIO_Excises_Module_2/blob/week_3/Probability.ipynb\" target=\"_parent\"><img src=\"https://colab.research.google.com/assets/colab-badge.svg\" alt=\"Open In Colab\"/></a>"
      ]
    },
    {
      "cell_type": "markdown",
      "source": [
        "4.1: Hoàn thiện functioncreate_train_dataset()để tổ chức dữ liệu bảng 1 vào array 2 chiều."
      ],
      "metadata": {
        "id": "XKy0JxrDSX30"
      }
    },
    {
      "cell_type": "code",
      "source": [
        "import numpy as np\n",
        "\n",
        "def create_train_data():\n",
        "\n",
        "  data=[['Sunny','Hot', 'High', 'Weak', 'no'],\n",
        "        ['Sunny','Hot', 'High', 'Strong', 'no'],\n",
        "        ['Overcast','Hot', 'High', 'Weak', 'yes'],\n",
        "        ['Rain','Mild', 'High', 'Weak', 'yes'],\n",
        "        ['Rain','Cool', 'Normal', 'Weak', 'yes'],\n",
        "        ['Rain','Cool', 'Normal', 'Strong', 'no'],\n",
        "        ['Overcast','Cool', 'Normal', 'Strong', 'yes'],\n",
        "        ['Overcast','Mild', 'High', 'Weak', 'no'],\n",
        "        ['Sunny','Cool', 'Normal', 'Weak', 'yes'],\n",
        "        ['Rain','Mild', 'Normal', 'Weak', 'yes']\n",
        "        ]\n",
        "  return np.array(data)\n",
        "\n",
        "train_data = create_train_data()\n",
        "print(train_data)"
      ],
      "metadata": {
        "colab": {
          "base_uri": "https://localhost:8080/"
        },
        "id": "FFKG1Xq3SYRK",
        "outputId": "3f3feca8-31b1-4ad0-ccbd-1b6217ea92fb"
      },
      "execution_count": null,
      "outputs": [
        {
          "output_type": "stream",
          "name": "stdout",
          "text": [
            "[['Sunny' 'Hot' 'High' 'Weak' 'no']\n",
            " ['Sunny' 'Hot' 'High' 'Strong' 'no']\n",
            " ['Overcast' 'Hot' 'High' 'Weak' 'yes']\n",
            " ['Rain' 'Mild' 'High' 'Weak' 'yes']\n",
            " ['Rain' 'Cool' 'Normal' 'Weak' 'yes']\n",
            " ['Rain' 'Cool' 'Normal' 'Strong' 'no']\n",
            " ['Overcast' 'Cool' 'Normal' 'Strong' 'yes']\n",
            " ['Overcast' 'Mild' 'High' 'Weak' 'no']\n",
            " ['Sunny' 'Cool' 'Normal' 'Weak' 'yes']\n",
            " ['Rain' 'Mild' 'Normal' 'Weak' 'yes']]\n"
          ]
        }
      ]
    },
    {
      "cell_type": "code",
      "source": [
        "y_unique = ['no', 'yes']\n",
        "prior_probability = np.zeros(len(y_unique))\n",
        "print(prior_probability)"
      ],
      "metadata": {
        "colab": {
          "base_uri": "https://localhost:8080/"
        },
        "id": "yP5rVps3lTlb",
        "outputId": "ba9dd660-e952-40b3-e3f6-3c43adf36ccf"
      },
      "execution_count": null,
      "outputs": [
        {
          "output_type": "stream",
          "name": "stdout",
          "text": [
            "[0. 0.]\n"
          ]
        }
      ]
    },
    {
      "cell_type": "markdown",
      "source": [
        "4.2: compute_prior_probability tính\n",
        "P(\"PlayTennis\"=\"Yes\") and tính\n",
        " P(\"PlayTennis\"=\"No\")"
      ],
      "metadata": {
        "id": "WJH5g-kzf73b"
      }
    },
    {
      "cell_type": "code",
      "source": [
        "def compute_prior_probablity(train_data):\n",
        "  y_unique = ['no', 'yes']\n",
        "  prior_probability = np.zeros(len(y_unique))\n",
        "\n",
        "  for i in range(0,len(y_unique)):\n",
        "    prior_probability[i]=len(np.where(train_data[:,4] == y_unique[i])[0])/len(train_data)\n",
        "  return prior_probability\n",
        "\n",
        "prior_probablity = compute_prior_probablity(train_data)\n",
        "print(\"P(“Play Tennis” = No)\", prior_probablity[0])\n",
        "print(\"P(“Play Tennis” = Yes)\", prior_probablity[1])"
      ],
      "metadata": {
        "colab": {
          "base_uri": "https://localhost:8080/"
        },
        "id": "cSKCvHgPgEU7",
        "outputId": "bf8d1b26-0f8e-41e0-e985-2dac4c3d4487"
      },
      "execution_count": null,
      "outputs": [
        {
          "output_type": "stream",
          "name": "stdout",
          "text": [
            "P(“Play Tennis” = No) 0.4\n",
            "P(“Play Tennis” = Yes) 0.6\n"
          ]
        }
      ]
    },
    {
      "cell_type": "markdown",
      "source": [
        "4.3:  function compute_conditional_probability để tính likelihood (The probability\n",
        " of \"A\" being True. Given \"B\" True, P(A|B))"
      ],
      "metadata": {
        "id": "3_ZHPXeLg_GE"
      }
    },
    {
      "cell_type": "code",
      "source": [
        "def compute_conditional_probability(train_data):\n",
        "  y_unique = ['no', 'yes']\n",
        "  conditional_probability = []\n",
        "  list_x_name = []\n",
        "#In ra các feature\n",
        "  for i in range(0,train_data.shape[1]-1):\n",
        "    x_unique = np.unique(train_data[:,i])\n",
        "    print(\"x_unique\", x_unique)\n",
        "    list_x_name.append(x_unique)\n",
        "\n",
        "    x_conditional_probability = np.zeros((len(y_unique),len(x_unique)))\n",
        "    for j in range(0,len(y_unique)):\n",
        "      for k in range(0,len(x_unique)):\n",
        "        x_conditional_probability[j,k]= len(np.where((train_data[:,i] == x_unique[k]) & (train_data[:,4] == y_unique[j]))[0])/len(np.where(train_data[:,4] == y_unique[j])[0])\n",
        "\n",
        "    conditional_probability.append(x_conditional_probability)\n",
        "  return conditional_probability, list_x_name"
      ],
      "metadata": {
        "id": "q3u-2SW-hCKU"
      },
      "execution_count": null,
      "outputs": []
    },
    {
      "cell_type": "code",
      "source": [
        "train_data = create_train_data()\n",
        "_, list_x_name  = compute_conditional_probability(train_data)\n",
        "print(\"x1 = \",list_x_name[0])\n",
        "print(\"x2 = \",list_x_name[1])\n",
        "print(\"x3 = \",list_x_name[2])\n",
        "print(\"x4 = \",list_x_name[3])"
      ],
      "metadata": {
        "colab": {
          "base_uri": "https://localhost:8080/"
        },
        "id": "ao_HIAZ6hmXb",
        "outputId": "33dc1345-ebc6-46e7-c736-3f0968b05e3a"
      },
      "execution_count": null,
      "outputs": [
        {
          "output_type": "stream",
          "name": "stdout",
          "text": [
            "x_unique ['Overcast' 'Rain' 'Sunny']\n",
            "x_unique ['Cool' 'Hot' 'Mild']\n",
            "x_unique ['High' 'Normal']\n",
            "x_unique ['Strong' 'Weak']\n",
            "x1 =  ['Overcast' 'Rain' 'Sunny']\n",
            "x2 =  ['Cool' 'Hot' 'Mild']\n",
            "x3 =  ['High' 'Normal']\n",
            "x4 =  ['Strong' 'Weak']\n"
          ]
        }
      ]
    },
    {
      "cell_type": "markdown",
      "source": [
        " Train Naive Bayes Model"
      ],
      "metadata": {
        "id": "PHiUnsvlh7fM"
      }
    },
    {
      "cell_type": "code",
      "source": [
        "def train_naive_bayes(train_data):\n",
        "    # Step 1: Calculate Prior Probability\n",
        "    prior_probability = compute_prior_probablity(train_data)\n",
        "\n",
        "    # Step 2: Calculate Conditional Probability\n",
        "    conditional_probability, list_x_name  = compute_conditional_probability(train_data)\n",
        "\n",
        "    return prior_probability,conditional_probability, list_x_name\n",
        "\n",
        "data = create_train_data()\n",
        "prior_probability,conditional_probability, list_x_name = train_naive_bayes(data)"
      ],
      "metadata": {
        "colab": {
          "base_uri": "https://localhost:8080/"
        },
        "id": "ye0HLoKOh7uA",
        "outputId": "840f5e9c-ecc5-4141-af0e-901c35bd94ee"
      },
      "execution_count": null,
      "outputs": [
        {
          "output_type": "stream",
          "name": "stdout",
          "text": [
            "x_unique ['Overcast' 'Rain' 'Sunny']\n",
            "x_unique ['Cool' 'Hot' 'Mild']\n",
            "x_unique ['High' 'Normal']\n",
            "x_unique ['Strong' 'Weak']\n"
          ]
        }
      ]
    },
    {
      "cell_type": "markdown",
      "source": [
        "This function is used to return the index of the feature name"
      ],
      "metadata": {
        "id": "-bYZ723wgz-6"
      }
    },
    {
      "cell_type": "code",
      "source": [
        "def get_index_from_value(feature_name, list_features):\n",
        "  return np.where(list_features == feature_name)[0][0]"
      ],
      "metadata": {
        "id": "NsQskb1liVHw"
      },
      "execution_count": null,
      "outputs": []
    },
    {
      "cell_type": "code",
      "source": [
        "#Question: 4.4.1\n",
        "train_data = create_train_data()\n",
        "_, list_x_name  = compute_conditional_probability(train_data)\n",
        "outlook = list_x_name[0]\n",
        "i1 = get_index_from_value(\"Overcast\", outlook)\n",
        "i2 = get_index_from_value(\"Rain\", outlook)\n",
        "i3 = get_index_from_value(\"Sunny\", outlook)\n",
        "\n",
        "print(i1, i2, i3)"
      ],
      "metadata": {
        "colab": {
          "base_uri": "https://localhost:8080/"
        },
        "id": "-VhRnmiviWTA",
        "outputId": "8e286592-419d-4515-ff6d-9199eb4a991b"
      },
      "execution_count": null,
      "outputs": [
        {
          "output_type": "stream",
          "name": "stdout",
          "text": [
            "x_unique ['Overcast' 'Rain' 'Sunny']\n",
            "x_unique ['Cool' 'Hot' 'Mild']\n",
            "x_unique ['High' 'Normal']\n",
            "x_unique ['Strong' 'Weak']\n",
            "0 1 2\n"
          ]
        }
      ]
    },
    {
      "cell_type": "code",
      "source": [
        "#Question: 4.4.2\n",
        "train_data = create_train_data()\n",
        "conditional_probability, list_x_name  = compute_conditional_probability(train_data)\n",
        "# Compute P(\"Outlook\"=\"Sunny\"|Play Tennis\"=\"Yes\")\n",
        "x1=get_index_from_value(\"Sunny\",list_x_name[0])\n",
        "print(\"P('Outlook'='Sunny'|Play Tennis'='Yes') = \", np.round(conditional_probability[0][1, x1],2))"
      ],
      "metadata": {
        "colab": {
          "base_uri": "https://localhost:8080/"
        },
        "id": "yho5rsmiiYsT",
        "outputId": "9418bb49-125c-474e-d6c9-c0bc5fb2c048"
      },
      "execution_count": null,
      "outputs": [
        {
          "output_type": "stream",
          "name": "stdout",
          "text": [
            "x_unique ['Overcast' 'Rain' 'Sunny']\n",
            "x_unique ['Cool' 'Hot' 'Mild']\n",
            "x_unique ['High' 'Normal']\n",
            "x_unique ['Strong' 'Weak']\n",
            "P('Outlook'='Sunny'|Play Tennis'='Yes') =  0.17\n"
          ]
        }
      ]
    },
    {
      "cell_type": "code",
      "source": [
        "#Question: 4.4.3\n",
        "train_data = create_train_data()\n",
        "conditional_probability, list_x_name  = compute_conditional_probability(train_data)\n",
        "# Compute P(\"Outlook\"=\"Sunny\"|Play Tennis\"=\"No\")\n",
        "x1=get_index_from_value(\"Sunny\",list_x_name[0])\n",
        "print(\"P('Outlook'='Sunny'|Play Tennis'='No') = \", np.round(conditional_probability[0][0, x1],2))"
      ],
      "metadata": {
        "colab": {
          "base_uri": "https://localhost:8080/"
        },
        "id": "AGolqLCwieII",
        "outputId": "1e262511-de63-4bd9-a795-c1896aad2475"
      },
      "execution_count": null,
      "outputs": [
        {
          "output_type": "stream",
          "name": "stdout",
          "text": [
            "x_unique ['Overcast' 'Rain' 'Sunny']\n",
            "x_unique ['Cool' 'Hot' 'Mild']\n",
            "x_unique ['High' 'Normal']\n",
            "x_unique ['Strong' 'Weak']\n",
            "P('Outlook'='Sunny'|Play Tennis'='No') =  0.5\n"
          ]
        }
      ]
    },
    {
      "cell_type": "markdown",
      "source": [
        "Prediction"
      ],
      "metadata": {
        "id": "jsEql4K1g_bv"
      }
    },
    {
      "cell_type": "code",
      "source": [
        "def prediction_play_tennis(X, list_x_name, prior_probability, conditional_probability):\n",
        "\n",
        "    x1=get_index_from_value(X[0],list_x_name[0])\n",
        "    x2=get_index_from_value(X[1],list_x_name[1])\n",
        "    x3=get_index_from_value(X[2],list_x_name[2])\n",
        "    x4=get_index_from_value(X[3],list_x_name[3])\n",
        "\n",
        "    p0=prior_probability[0] \\\n",
        "    *conditional_probability[0][0,x1] \\\n",
        "    *conditional_probability[1][0,x2] \\\n",
        "    *conditional_probability[2][0,x3] \\\n",
        "    *conditional_probability[3][0,x4]\n",
        "\n",
        "    p1=prior_probability[1]\\\n",
        "    *conditional_probability[0][1,x1]\\\n",
        "    *conditional_probability[1][1,x2]\\\n",
        "    *conditional_probability[2][1,x3]\\\n",
        "    *conditional_probability[3][1,x4]\n",
        "\n",
        "    # print(p0, p1)\n",
        "\n",
        "    if p0>p1:\n",
        "        y_pred=0\n",
        "    else:\n",
        "        y_pred=1\n",
        "\n",
        "    return y_pred"
      ],
      "metadata": {
        "id": "FPsQ8ScCjRRG"
      },
      "execution_count": null,
      "outputs": []
    },
    {
      "cell_type": "code",
      "source": [
        "#4.6.1\n",
        "X = ['Sunny','Cool', 'High', 'Strong']\n",
        "data = create_train_data()\n",
        "prior_probability,conditional_probability, list_x_name = train_naive_bayes(data)\n",
        "pred =  prediction_play_tennis(X, list_x_name, prior_probability, conditional_probability)\n",
        "\n",
        "if(pred):\n",
        "  print(\"Ad should go!\")\n",
        "else:\n",
        "  print(\"Ad should not go!\")"
      ],
      "metadata": {
        "colab": {
          "base_uri": "https://localhost:8080/"
        },
        "id": "1W8WODdOjVy9",
        "outputId": "f6bf5bfa-bffa-460e-9fbd-7c86a748b1bb"
      },
      "execution_count": null,
      "outputs": [
        {
          "output_type": "stream",
          "name": "stdout",
          "text": [
            "x_unique ['Overcast' 'Rain' 'Sunny']\n",
            "x_unique ['Cool' 'Hot' 'Mild']\n",
            "x_unique ['High' 'Normal']\n",
            "x_unique ['Strong' 'Weak']\n",
            "Ad should not go!\n"
          ]
        }
      ]
    },
    {
      "cell_type": "markdown",
      "source": [
        "5. Iris classification"
      ],
      "metadata": {
        "id": "GZsfXgufxGbv"
      }
    },
    {
      "cell_type": "code",
      "source": [
        "from sklearn import datasets\n",
        "import numpy as np\n",
        "\n",
        "def create_train_data_iris():\n",
        "  data = np.loadtxt(\"/content/drive/MyDrive/Exercise/Module 2/week 3/iris.data.txt\", delimiter=\",\", dtype=str)\n",
        "  return data"
      ],
      "metadata": {
        "id": "hxRIdJwRxEcA"
      },
      "execution_count": null,
      "outputs": []
    },
    {
      "cell_type": "code",
      "source": [
        "def compute_prior_probablity_iris(train_data):\n",
        "  y_unique = np.unique(train_data[:,4])\n",
        "  prior_probability = np.zeros(len(y_unique))\n",
        "  for i in range(0,len(y_unique)):\n",
        "    prior_probability[i]=len(np.where(train_data[:,4] == y_unique[i])[0])/len(train_data)\n",
        "  return prior_probability"
      ],
      "metadata": {
        "id": "UtM9D2_Mxktk"
      },
      "execution_count": null,
      "outputs": []
    },
    {
      "cell_type": "code",
      "source": [
        "#this function is used to compute the conditional probabilities\n",
        "#input: train data\n",
        "#output: conditional probabilities and list of feature names\n",
        "def compute_conditional_probability_iris(train_data):\n",
        "  y_unique = np.unique(train_data[:,4]) # 0 for Setosa, 1 for Versicolour, 2 for Virginica\n",
        "  x_feature = 4\n",
        "  conditional_probability = []\n",
        "  list_x_name = []\n",
        "  for i in range(0,train_data.shape[1]-1):\n",
        "    x_conditional_probability = np.zeros((len(y_unique), 2))\n",
        "    for j in range(0,len(y_unique)):\n",
        "        mean = np.mean((train_data[:,i][np.where(train_data[:,4] == y_unique[j])]).astype(float))\n",
        "        sigma =  np.std((train_data[:,i][np.where(train_data[:,4] == y_unique[j])]).astype(float))\n",
        "        sigma = sigma * sigma\n",
        "        x_conditional_probability[j]= [mean, sigma]\n",
        "\n",
        "    conditional_probability.append(x_conditional_probability)\n",
        "  return conditional_probability"
      ],
      "metadata": {
        "id": "2Yaprxl_xosY"
      },
      "execution_count": null,
      "outputs": []
    },
    {
      "cell_type": "code",
      "source": [
        "import math\n",
        "#Define the Gaussian function\n",
        "def gauss(x, mean, sigma):\n",
        "  result = (1.0 / (np.sqrt(2*math.pi*sigma))) \\\n",
        "  * (np.exp(-(float(x) - mean) ** 2 / (2 * sigma)))\n",
        "  return result"
      ],
      "metadata": {
        "id": "xhRsgUkHxt8d"
      },
      "execution_count": null,
      "outputs": []
    },
    {
      "cell_type": "code",
      "source": [
        "###########################\n",
        "# Train Naive Bayes Model\n",
        "###########################\n",
        "def train_gaussian_naive_bayes(train_data):\n",
        "    # Step 1: Calculate Prior Probability\n",
        "    prior_probability = compute_prior_probablity_iris(train_data)\n",
        "\n",
        "    # Step 2: Calculate Conditional Probability\n",
        "    conditional_probability  = compute_conditional_probability_iris(train_data)\n",
        "\n",
        "    return prior_probability,conditional_probability\n",
        "\n",
        "# data = create_train_data_iris()\n",
        "# conditional_probability = train_gaussian_naive_bayes(data)"
      ],
      "metadata": {
        "id": "WLVvBabMxw0j"
      },
      "execution_count": null,
      "outputs": []
    },
    {
      "cell_type": "code",
      "source": [
        "####################\n",
        "# Prediction\n",
        "####################\n",
        "def prediction_iris(X,  prior_probability, conditional_probability):\n",
        "\n",
        "    p0=prior_probability[0] \\\n",
        "    *gauss(X[0], conditional_probability[0][0][0],conditional_probability[0][0][1])  \\\n",
        "    *gauss(X[1], conditional_probability[1][0][0],conditional_probability[1][0][1])  \\\n",
        "    *gauss(X[2], conditional_probability[2][0][0],conditional_probability[2][0][1])  \\\n",
        "    *gauss(X[3], conditional_probability[3][0][0],conditional_probability[3][0][1])\n",
        "\n",
        "    p1=prior_probability[1] \\\n",
        "    *gauss(X[0], conditional_probability[0][1][0],conditional_probability[0][1][1])  \\\n",
        "    *gauss(X[1], conditional_probability[1][1][0],conditional_probability[1][1][1])  \\\n",
        "    *gauss(X[2], conditional_probability[2][1][0],conditional_probability[2][1][1])  \\\n",
        "    *gauss(X[3], conditional_probability[3][1][0],conditional_probability[3][1][1])\n",
        "\n",
        "    p2=prior_probability[2] \\\n",
        "    *gauss(X[0], conditional_probability[0][2][0],conditional_probability[0][2][1])  \\\n",
        "    *gauss(X[1], conditional_probability[1][2][0],conditional_probability[1][2][1])  \\\n",
        "    *gauss(X[2], conditional_probability[2][2][0],conditional_probability[2][2][1])  \\\n",
        "    *gauss(X[3], conditional_probability[3][2][0],conditional_probability[3][2][1])\n",
        "\n",
        "    # print(p0, p1)\n",
        "    list_p = [p0, p1, p2]\n",
        "\n",
        "    return list_p.index(np.max(list_p))"
      ],
      "metadata": {
        "id": "io9EPXLRxz3K"
      },
      "execution_count": null,
      "outputs": []
    },
    {
      "cell_type": "code",
      "source": [
        "#Example 1 #########################\n",
        "X = [6.3 , 3.3, 6.0,  2.5]\n",
        "train_data = create_train_data_iris()\n",
        "y_unique = np.unique(train_data[:,4])\n",
        "prior_probability, conditional_probability = train_gaussian_naive_bayes(train_data)\n",
        "pred = y_unique[prediction_iris(X, prior_probability, conditional_probability)]\n",
        "assert pred == \"Iris-virginica\""
      ],
      "metadata": {
        "id": "w1R-Mrdux4SJ"
      },
      "execution_count": null,
      "outputs": []
    },
    {
      "cell_type": "code",
      "source": [
        "#Example 2 #########################\n",
        "X = [5.0,2.0,3.5,1.0]\n",
        "train_data = create_train_data_iris()\n",
        "y_unique = np.unique(train_data[:,4])\n",
        "prior_probability, conditional_probability = train_gaussian_naive_bayes(train_data)\n",
        "pred = y_unique[prediction_iris(X, prior_probability, conditional_probability)]\n",
        "assert pred == \"Iris-versicolor\""
      ],
      "metadata": {
        "id": "rqS4XYX2yLq5"
      },
      "execution_count": null,
      "outputs": []
    },
    {
      "cell_type": "code",
      "source": [
        "#Example 3 #########################\n",
        "# X =[sepal length, sepal width, petal length, petal width]\n",
        "X = [4.9,3.1,1.5,0.1]\n",
        "train_data = create_train_data_iris()\n",
        "y_unique = np.unique(train_data[:,4])\n",
        "prior_probability, conditional_probability = train_gaussian_naive_bayes(train_data)\n",
        "pred = y_unique[prediction_iris(X, prior_probability, conditional_probability)]\n",
        "assert pred == \"Iris-setosa\""
      ],
      "metadata": {
        "id": "6tPWsq2IyOQj"
      },
      "execution_count": null,
      "outputs": []
    }
  ]
}